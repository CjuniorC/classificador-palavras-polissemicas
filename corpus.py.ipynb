{
 "cells": [
  {
   "cell_type": "code",
   "execution_count": 4,
   "metadata": {},
   "outputs": [],
   "source": [
    "import nltk\n",
    "from nltk.corpus import floresta\n",
    "from nltk.corpus import stopwords\n",
    "from nltk import UnigramTagger\n",
    "from nltk import DefaultTagger\n",
    "from nltk import BigramTagger\n",
    "import string\n",
    "\n",
    "def fill_new_corpus():\n",
    "    for sent in floresta.tagged_sents():\n",
    "        new_sent = []\n",
    "        for word in sent:\n",
    "            if word[0].lower() not in string.punctuation:\n",
    "                new_sent.append(word)\n",
    "        corpus.append(new_sent)\n",
    "    return new_corpus\n",
    "        \n",
    "def generate_tokenizer(corpus):\n",
    "    test = corpus\n",
    "    t0 = DefaultTagger(\"n\")\n",
    "    t1 = UnigramTagger(test, backoff=t0)\n",
    "    t2 = BigramTagger(test, backoff=t1)\n",
    "    return t2\n",
    "    \n",
    "def tokenizer_phrase(phrase):\n",
    "    tag_phrase = t2.tag(phrase)\n",
    "    return tag_phrase\n"
   ]
  }
 ],
 "metadata": {
  "kernelspec": {
   "display_name": "Python 3",
   "language": "python",
   "name": "python3"
  },
  "language_info": {
   "codemirror_mode": {
    "name": "ipython",
    "version": 3
   },
   "file_extension": ".py",
   "mimetype": "text/x-python",
   "name": "python",
   "nbconvert_exporter": "python",
   "pygments_lexer": "ipython3",
   "version": "3.6.5"
  }
 },
 "nbformat": 4,
 "nbformat_minor": 2
}
