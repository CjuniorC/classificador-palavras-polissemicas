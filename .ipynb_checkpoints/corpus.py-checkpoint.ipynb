{
 "cells": [
  {
   "cell_type": "code",
   "execution_count": 23,
   "metadata": {},
   "outputs": [],
   "source": [
    "import nltk\n",
    "import pandas as pd\n",
    "from nltk.corpus import floresta\n",
    "from nltk.corpus import stopwords\n",
    "from nltk import UnigramTagger\n",
    "from nltk import DefaultTagger\n",
    "from nltk import BigramTagger\n",
    "import string\n",
    "\n",
    "def fill_new_corpus():\n",
    "    corpus = []\n",
    "    for sent in floresta.tagged_sents():\n",
    "        new_sent = []\n",
    "        for word in sent:\n",
    "            if word[0].lower() not in string.punctuation:\n",
    "                new_sent.append(word)\n",
    "        corpus.append(new_sent)\n",
    "    return corpus\n",
    "        \n",
    "def generate_tokenizer(corpus):\n",
    "    test = corpus\n",
    "    t0 = DefaultTagger(\"n\")\n",
    "    t1 = UnigramTagger(test, backoff=t0)\n",
    "    t2 = BigramTagger(test, backoff=t1)\n",
    "    return t2\n",
    "    \n",
    "def tokenizer_phrase(phrase, tagger):\n",
    "    tag_phrase = tagger.tag(phrase)\n",
    "    return tag_phrase\n"
   ]
  },
  {
   "cell_type": "code",
   "execution_count": 10,
   "metadata": {},
   "outputs": [
    {
     "name": "stdout",
     "output_type": "stream",
     "text": [
      "Type some phrase here: existem manga barata?\n"
     ]
    }
   ],
   "source": [
    "phrase = input('Type some phrase here: ')"
   ]
  },
  {
   "cell_type": "code",
   "execution_count": 21,
   "metadata": {},
   "outputs": [],
   "source": [
    "corpus = fill_new_corpus()"
   ]
  },
  {
   "cell_type": "code",
   "execution_count": 22,
   "metadata": {},
   "outputs": [],
   "source": [
    "tagger = generate_tokenizer(corpus)"
   ]
  },
  {
   "cell_type": "code",
   "execution_count": 26,
   "metadata": {},
   "outputs": [],
   "source": [
    "new_phrase = tokenizer_phrase(phrase.split(' '), tagger)"
   ]
  },
  {
   "cell_type": "code",
   "execution_count": 27,
   "metadata": {},
   "outputs": [
    {
     "data": {
      "text/plain": [
       "[('existem', 'P+v-fin'), ('manga', 'n'), ('barata?', 'n')]"
      ]
     },
     "execution_count": 27,
     "metadata": {},
     "output_type": "execute_result"
    }
   ],
   "source": [
    "new_phrase"
   ]
  },
  {
   "cell_type": "code",
   "execution_count": null,
   "metadata": {},
   "outputs": [],
   "source": []
  }
 ],
 "metadata": {
  "kernelspec": {
   "display_name": "Python 3",
   "language": "python",
   "name": "python3"
  },
  "language_info": {
   "codemirror_mode": {
    "name": "ipython",
    "version": 3
   },
   "file_extension": ".py",
   "mimetype": "text/x-python",
   "name": "python",
   "nbconvert_exporter": "python",
   "pygments_lexer": "ipython3",
   "version": "3.6.5"
  }
 },
 "nbformat": 4,
 "nbformat_minor": 2
}
